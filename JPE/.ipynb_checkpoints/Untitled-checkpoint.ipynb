{
 "cells": [
  {
   "cell_type": "code",
   "execution_count": 33,
   "metadata": {},
   "outputs": [],
   "source": [
    "from PIL import Image\n",
    "import pytesseract as pt"
   ]
  },
  {
   "cell_type": "code",
   "execution_count": 34,
   "metadata": {},
   "outputs": [],
   "source": [
    "img = Image.open('259945.fp.png')"
   ]
  },
  {
   "cell_type": "code",
   "execution_count": 35,
   "metadata": {},
   "outputs": [],
   "source": [
    "txt = pt.image_to_string(img, lang='eng')"
   ]
  },
  {
   "cell_type": "code",
   "execution_count": 36,
   "metadata": {},
   "outputs": [
    {
     "data": {
      "text/plain": [
       "'Money, Debt, and Economic Activity\\n\\n \\n\\nKarl Brunner\\n\\nUniversity of Rochester\\n\\nAllan H. Meltzer\\n\\nCarnegie-Mellon University\\n\\nThe paper develops an alternative to the standard JS-LM framework.\\nThere are two asset markets and three prices—the prices of real assets,\\nfinancial assets, and output. Costs of adjustment and information pre-\\nvent output prices and output from adjusting instantaneously. Both the\\nsize of deficits and the method of financing affect output and prices.\\nSome principal implications are derived. Several of these are also\\ndemonstrated, using a graph to show the interaction of asset markets,\\noutput markets, and the financing of the budget deficit. Some main\\nimplications of standard analysis are rejected. The basis for several\\n“monetarist” conclusions is shown,\\n\\nThree deficiencies of the standard paradigm of macroeconomics, repre-\\nsented either by Hicks’s (1937) classic restatement and adumbration of\\nKeynes’s General Theory (1936) or by the Metzler-Patinkin (1951, 1965)\\nmodel, seem most important. First, several variables of interest are either\\nomitted or combined. Bonds and real capital are treated as a single asset.\\nThere is only one relative price—the rate of interest. There is no way to\\nanalyze the substitutions between money, bonds, real capital, and current\\nconsumables set off by changes in monetary or fiscal policies or by au-\\ntonomous changes in the productivity of capital. The only simultaneous\\nsolution for the price level and real output is the full-employment solu-\\ntion; elsewhere, real output is determined only if the price level is constant.\\n\\nSecond, the theory has not been successfully confirmed. Although evi-\\ndence has been obtained about the properties of particular equations,\\n\\nWe appreciate the financial support of the National Science Foundation and the\\nhelpful comments of John Bryant, William Carlson, and Robert J. Gordon.\\n\\nOsi\\n'"
      ]
     },
     "execution_count": 36,
     "metadata": {},
     "output_type": "execute_result"
    }
   ],
   "source": [
    "txt\n"
   ]
  },
  {
   "cell_type": "code",
   "execution_count": 48,
   "metadata": {},
   "outputs": [
    {
     "data": {
      "text/plain": [
       "-1"
      ]
     },
     "execution_count": 48,
     "metadata": {},
     "output_type": "execute_result"
    }
   ],
   "source": [
    "import cv2\n",
    "\n",
    "# Load the image\n",
    "img = cv2.imread('259945.fp.png')\n",
    "\n",
    "# convert to grayscale\n",
    "gray = cv2.cvtColor(img,cv2.COLOR_BGR2GRAY)\n",
    "\n",
    "# smooth the image to avoid noises\n",
    "gray = cv2.medianBlur(gray,5)\n",
    "\n",
    "# Apply adaptive threshold\n",
    "thresh = cv2.adaptiveThreshold(gray,255,1,1,11,2)\n",
    "thresh_color = cv2.cvtColor(thresh,cv2.COLOR_GRAY2BGR)\n",
    "\n",
    "# apply some dilation and erosion to join the gaps - change iteration to detect more or less area's\n",
    "thresh = cv2.dilate(thresh,None,iterations = 15)\n",
    "thresh = cv2.erode(thresh,None,iterations = 15)\n",
    "\n",
    "# Find the contours\n",
    "contours,hierarchy = cv2.findContours(thresh,cv2.RETR_TREE,cv2.CHAIN_APPROX_SIMPLE)\n",
    "\n",
    "# For each contour, find the bounding rectangle and draw it\n",
    "for cnt in contours:\n",
    "    x,y,w,h = cv2.boundingRect(cnt)\n",
    "    cv2.rectangle(img,(x,y),(x+w,y+h),(0,255,0),2)\n",
    "    cv2.rectangle(thresh_color,(x,y),(x+w,y+h),(0,255,0),2)\n",
    "\n",
    "# Finally show the image\n",
    "cv2.imshow('thresh',thresh)\n",
    "cv2.imshow('img',img)\n",
    "cv2.imshow('res',thresh_color)\n",
    "cv2.waitKey(0)\n",
    "cv2.destroyAllWindows()\n",
    "cv2.waitKey(1)"
   ]
  },
  {
   "cell_type": "code",
   "execution_count": 9,
   "metadata": {},
   "outputs": [],
   "source": [
    "import pandas as pd"
   ]
  },
  {
   "cell_type": "code",
   "execution_count": 10,
   "metadata": {},
   "outputs": [],
   "source": [
    "a = [[1,2,3,4], ['a', 'b', 'c', 'd']]"
   ]
  },
  {
   "cell_type": "code",
   "execution_count": 15,
   "metadata": {},
   "outputs": [
    {
     "data": {
      "text/html": [
       "<div>\n",
       "<style scoped>\n",
       "    .dataframe tbody tr th:only-of-type {\n",
       "        vertical-align: middle;\n",
       "    }\n",
       "\n",
       "    .dataframe tbody tr th {\n",
       "        vertical-align: top;\n",
       "    }\n",
       "\n",
       "    .dataframe thead th {\n",
       "        text-align: right;\n",
       "    }\n",
       "</style>\n",
       "<table border=\"1\" class=\"dataframe\">\n",
       "  <thead>\n",
       "    <tr style=\"text-align: right;\">\n",
       "      <th></th>\n",
       "      <th>0</th>\n",
       "      <th>1</th>\n",
       "      <th>2</th>\n",
       "      <th>3</th>\n",
       "    </tr>\n",
       "  </thead>\n",
       "  <tbody>\n",
       "    <tr>\n",
       "      <th>0</th>\n",
       "      <td>1</td>\n",
       "      <td>2</td>\n",
       "      <td>3</td>\n",
       "      <td>4</td>\n",
       "    </tr>\n",
       "    <tr>\n",
       "      <th>1</th>\n",
       "      <td>a</td>\n",
       "      <td>b</td>\n",
       "      <td>c</td>\n",
       "      <td>d</td>\n",
       "    </tr>\n",
       "  </tbody>\n",
       "</table>\n",
       "</div>"
      ],
      "text/plain": [
       "   0  1  2  3\n",
       "0  1  2  3  4\n",
       "1  a  b  c  d"
      ]
     },
     "execution_count": 15,
     "metadata": {},
     "output_type": "execute_result"
    }
   ],
   "source": [
    "pd.DataFrame(a)"
   ]
  },
  {
   "cell_type": "code",
   "execution_count": 17,
   "metadata": {},
   "outputs": [
    {
     "data": {
      "text/plain": [
       "[['a', 'b', 'c', 'd']]"
      ]
     },
     "execution_count": 17,
     "metadata": {},
     "output_type": "execute_result"
    }
   ],
   "source": [
    "a[-1:]"
   ]
  },
  {
   "cell_type": "code",
   "execution_count": 13,
   "metadata": {},
   "outputs": [],
   "source": [
    "class Count:\n",
    "    def __init__(self,obj):\n",
    "        self = obj\n",
    "\n",
    "    def __getattr__(self, item):\n",
    "        self.__dict__[item]=''\n",
    "        return ''\n",
    "\n",
    "obj1 = Count([1,2,3,4])"
   ]
  },
  {
   "cell_type": "code",
   "execution_count": 15,
   "metadata": {},
   "outputs": [
    {
     "ename": "TypeError",
     "evalue": "'str' object is not callable",
     "output_type": "error",
     "traceback": [
      "\u001b[0;31m---------------------------------------------------------------------------\u001b[0m",
      "\u001b[0;31mTypeError\u001b[0m                                 Traceback (most recent call last)",
      "\u001b[0;32m<ipython-input-15-74a2ec01538b>\u001b[0m in \u001b[0;36m<module>\u001b[0;34m\u001b[0m\n\u001b[0;32m----> 1\u001b[0;31m obj1.append(10\n\u001b[0m\u001b[1;32m      2\u001b[0m            )\n",
      "\u001b[0;31mTypeError\u001b[0m: 'str' object is not callable"
     ]
    }
   ],
   "source": [
    "obj1.append(10)"
   ]
  },
  {
   "cell_type": "code",
   "execution_count": 11,
   "metadata": {},
   "outputs": [
    {
     "ename": "AttributeError",
     "evalue": "'list' object has no attribute 'len'",
     "output_type": "error",
     "traceback": [
      "\u001b[0;31m---------------------------------------------------------------------------\u001b[0m",
      "\u001b[0;31mAttributeError\u001b[0m                            Traceback (most recent call last)",
      "\u001b[0;32m<ipython-input-11-def1f07fd580>\u001b[0m in \u001b[0;36m<module>\u001b[0;34m\u001b[0m\n\u001b[0;32m----> 1\u001b[0;31m \u001b[0;34m[\u001b[0m\u001b[0;36m1\u001b[0m\u001b[0;34m,\u001b[0m\u001b[0;36m2\u001b[0m\u001b[0;34m,\u001b[0m\u001b[0;36m3\u001b[0m\u001b[0;34m,\u001b[0m\u001b[0;36m4\u001b[0m\u001b[0;34m]\u001b[0m\u001b[0;34m.\u001b[0m\u001b[0mlen\u001b[0m\u001b[0;34m(\u001b[0m\u001b[0;34m)\u001b[0m\u001b[0;34m\u001b[0m\u001b[0;34m\u001b[0m\u001b[0m\n\u001b[0m",
      "\u001b[0;31mAttributeError\u001b[0m: 'list' object has no attribute 'len'"
     ]
    }
   ],
   "source": [
    "for"
   ]
  },
  {
   "cell_type": "code",
   "execution_count": 13,
   "metadata": {},
   "outputs": [
    {
     "name": "stdout",
     "output_type": "stream",
     "text": [
      "-0.2\n",
      "done calculate\n",
      "-0.25\n",
      "done calculate\n",
      "-0.3333333333333333\n",
      "done calculate\n",
      "-0.5\n",
      "done calculate\n",
      "-1.0\n",
      "done calculate\n",
      "error occur at i=5\n",
      "1.0\n",
      "done calculate\n",
      "0.5\n",
      "done calculate\n",
      "0.3333333333333333\n",
      "done calculate\n",
      "0.25\n",
      "done calculate\n"
     ]
    },
    {
     "name": "stderr",
     "output_type": "stream",
     "text": [
      "ERROR:root:Internal Python error in the inspect module.\n",
      "Below is the traceback from this internal error.\n",
      "\n"
     ]
    },
    {
     "name": "stdout",
     "output_type": "stream",
     "text": [
      "stopped!\n",
      "Traceback (most recent call last):\n",
      "  File \"<ipython-input-13-81e5b63a9008>\", line 6, in <module>\n",
      "    time.sleep(1)\n",
      "KeyboardInterrupt\n",
      "\n",
      "During handling of the above exception, another exception occurred:\n",
      "\n",
      "Traceback (most recent call last):\n",
      "  File \"/Library/Frameworks/Python.framework/Versions/3.8/lib/python3.8/site-packages/IPython/core/interactiveshell.py\", line 3343, in run_code\n",
      "    exec(code_obj, self.user_global_ns, self.user_ns)\n",
      "  File \"<ipython-input-13-81e5b63a9008>\", line 11, in <module>\n",
      "    sys.exit(1)\n",
      "SystemExit: 1\n",
      "\n",
      "During handling of the above exception, another exception occurred:\n",
      "\n",
      "Traceback (most recent call last):\n",
      "  File \"/Library/Frameworks/Python.framework/Versions/3.8/lib/python3.8/site-packages/IPython/core/ultratb.py\", line 1169, in get_records\n",
      "    return _fixed_getinnerframes(etb, number_of_lines_of_context, tb_offset)\n",
      "  File \"/Library/Frameworks/Python.framework/Versions/3.8/lib/python3.8/site-packages/IPython/core/ultratb.py\", line 316, in wrapped\n",
      "    return f(*args, **kwargs)\n",
      "  File \"/Library/Frameworks/Python.framework/Versions/3.8/lib/python3.8/site-packages/IPython/core/ultratb.py\", line 350, in _fixed_getinnerframes\n",
      "    records = fix_frame_records_filenames(inspect.getinnerframes(etb, context))\n",
      "  File \"/Library/Frameworks/Python.framework/Versions/3.8/lib/python3.8/inspect.py\", line 1503, in getinnerframes\n",
      "    frameinfo = (tb.tb_frame,) + getframeinfo(tb, context)\n",
      "AttributeError: 'tuple' object has no attribute 'tb_frame'\n"
     ]
    },
    {
     "ename": "TypeError",
     "evalue": "object of type 'NoneType' has no len()",
     "output_type": "error",
     "traceback": [
      "\u001b[0;31m---------------------------------------------------------------------------\u001b[0m",
      "\u001b[0;31mKeyboardInterrupt\u001b[0m                         Traceback (most recent call last)",
      "\u001b[0;32m<ipython-input-13-81e5b63a9008>\u001b[0m in \u001b[0;36m<module>\u001b[0;34m\u001b[0m\n\u001b[1;32m      5\u001b[0m     \u001b[0;32mtry\u001b[0m\u001b[0;34m:\u001b[0m\u001b[0;34m\u001b[0m\u001b[0;34m\u001b[0m\u001b[0m\n\u001b[0;32m----> 6\u001b[0;31m         \u001b[0mtime\u001b[0m\u001b[0;34m.\u001b[0m\u001b[0msleep\u001b[0m\u001b[0;34m(\u001b[0m\u001b[0;36m1\u001b[0m\u001b[0;34m)\u001b[0m\u001b[0;34m\u001b[0m\u001b[0;34m\u001b[0m\u001b[0m\n\u001b[0m\u001b[1;32m      7\u001b[0m         \u001b[0mprint\u001b[0m\u001b[0;34m(\u001b[0m\u001b[0;36m1\u001b[0m\u001b[0;34m/\u001b[0m\u001b[0;34m(\u001b[0m\u001b[0mi\u001b[0m\u001b[0;34m-\u001b[0m\u001b[0;36m5\u001b[0m\u001b[0;34m)\u001b[0m\u001b[0;34m)\u001b[0m\u001b[0;34m\u001b[0m\u001b[0;34m\u001b[0m\u001b[0m\n",
      "\u001b[0;31mKeyboardInterrupt\u001b[0m: ",
      "\nDuring handling of the above exception, another exception occurred:\n",
      "\u001b[0;31mSystemExit\u001b[0m                                Traceback (most recent call last)",
      "    \u001b[0;31m[... skipping hidden 1 frame]\u001b[0m\n",
      "\u001b[0;32m<ipython-input-13-81e5b63a9008>\u001b[0m in \u001b[0;36m<module>\u001b[0;34m\u001b[0m\n\u001b[1;32m     10\u001b[0m         \u001b[0mprint\u001b[0m\u001b[0;34m(\u001b[0m\u001b[0;34m\"stopped!\"\u001b[0m\u001b[0;34m)\u001b[0m\u001b[0;34m\u001b[0m\u001b[0;34m\u001b[0m\u001b[0m\n\u001b[0;32m---> 11\u001b[0;31m         \u001b[0msys\u001b[0m\u001b[0;34m.\u001b[0m\u001b[0mexit\u001b[0m\u001b[0;34m(\u001b[0m\u001b[0;36m1\u001b[0m\u001b[0;34m)\u001b[0m\u001b[0;34m\u001b[0m\u001b[0;34m\u001b[0m\u001b[0m\n\u001b[0m\u001b[1;32m     12\u001b[0m     \u001b[0;32mexcept\u001b[0m \u001b[0mException\u001b[0m \u001b[0;32mas\u001b[0m \u001b[0me\u001b[0m\u001b[0;34m:\u001b[0m\u001b[0;34m\u001b[0m\u001b[0;34m\u001b[0m\u001b[0m\n",
      "\u001b[0;31mSystemExit\u001b[0m: 1",
      "\nDuring handling of the above exception, another exception occurred:\n",
      "\u001b[0;31mTypeError\u001b[0m                                 Traceback (most recent call last)",
      "    \u001b[0;31m[... skipping hidden 1 frame]\u001b[0m\n",
      "\u001b[0;32m/Library/Frameworks/Python.framework/Versions/3.8/lib/python3.8/site-packages/IPython/core/interactiveshell.py\u001b[0m in \u001b[0;36mshowtraceback\u001b[0;34m(self, exc_tuple, filename, tb_offset, exception_only, running_compiled_code)\u001b[0m\n\u001b[1;32m   2035\u001b[0m                     stb = ['An exception has occurred, use %tb to see '\n\u001b[1;32m   2036\u001b[0m                            'the full traceback.\\n']\n\u001b[0;32m-> 2037\u001b[0;31m                     stb.extend(self.InteractiveTB.get_exception_only(etype,\n\u001b[0m\u001b[1;32m   2038\u001b[0m                                                                      value))\n\u001b[1;32m   2039\u001b[0m                 \u001b[0;32melse\u001b[0m\u001b[0;34m:\u001b[0m\u001b[0;34m\u001b[0m\u001b[0;34m\u001b[0m\u001b[0m\n",
      "\u001b[0;32m/Library/Frameworks/Python.framework/Versions/3.8/lib/python3.8/site-packages/IPython/core/ultratb.py\u001b[0m in \u001b[0;36mget_exception_only\u001b[0;34m(self, etype, value)\u001b[0m\n\u001b[1;32m    821\u001b[0m         \u001b[0mvalue\u001b[0m \u001b[0;34m:\u001b[0m \u001b[0mexception\u001b[0m \u001b[0mvalue\u001b[0m\u001b[0;34m\u001b[0m\u001b[0;34m\u001b[0m\u001b[0m\n\u001b[1;32m    822\u001b[0m         \"\"\"\n\u001b[0;32m--> 823\u001b[0;31m         \u001b[0;32mreturn\u001b[0m \u001b[0mListTB\u001b[0m\u001b[0;34m.\u001b[0m\u001b[0mstructured_traceback\u001b[0m\u001b[0;34m(\u001b[0m\u001b[0mself\u001b[0m\u001b[0;34m,\u001b[0m \u001b[0metype\u001b[0m\u001b[0;34m,\u001b[0m \u001b[0mvalue\u001b[0m\u001b[0;34m)\u001b[0m\u001b[0;34m\u001b[0m\u001b[0;34m\u001b[0m\u001b[0m\n\u001b[0m\u001b[1;32m    824\u001b[0m \u001b[0;34m\u001b[0m\u001b[0m\n\u001b[1;32m    825\u001b[0m     \u001b[0;32mdef\u001b[0m \u001b[0mshow_exception_only\u001b[0m\u001b[0;34m(\u001b[0m\u001b[0mself\u001b[0m\u001b[0;34m,\u001b[0m \u001b[0metype\u001b[0m\u001b[0;34m,\u001b[0m \u001b[0mevalue\u001b[0m\u001b[0;34m)\u001b[0m\u001b[0;34m:\u001b[0m\u001b[0;34m\u001b[0m\u001b[0;34m\u001b[0m\u001b[0m\n",
      "\u001b[0;32m/Library/Frameworks/Python.framework/Versions/3.8/lib/python3.8/site-packages/IPython/core/ultratb.py\u001b[0m in \u001b[0;36mstructured_traceback\u001b[0;34m(self, etype, evalue, etb, tb_offset, context)\u001b[0m\n\u001b[1;32m    696\u001b[0m             \u001b[0mchained_exceptions_tb_offset\u001b[0m \u001b[0;34m=\u001b[0m \u001b[0;36m0\u001b[0m\u001b[0;34m\u001b[0m\u001b[0;34m\u001b[0m\u001b[0m\n\u001b[1;32m    697\u001b[0m             out_list = (\n\u001b[0;32m--> 698\u001b[0;31m                 self.structured_traceback(\n\u001b[0m\u001b[1;32m    699\u001b[0m                     \u001b[0metype\u001b[0m\u001b[0;34m,\u001b[0m \u001b[0mevalue\u001b[0m\u001b[0;34m,\u001b[0m \u001b[0;34m(\u001b[0m\u001b[0metb\u001b[0m\u001b[0;34m,\u001b[0m \u001b[0mchained_exc_ids\u001b[0m\u001b[0;34m)\u001b[0m\u001b[0;34m,\u001b[0m\u001b[0;34m\u001b[0m\u001b[0;34m\u001b[0m\u001b[0m\n\u001b[1;32m    700\u001b[0m                     chained_exceptions_tb_offset, context)\n",
      "\u001b[0;32m/Library/Frameworks/Python.framework/Versions/3.8/lib/python3.8/site-packages/IPython/core/ultratb.py\u001b[0m in \u001b[0;36mstructured_traceback\u001b[0;34m(self, etype, value, tb, tb_offset, number_of_lines_of_context)\u001b[0m\n\u001b[1;32m   1433\u001b[0m         \u001b[0;32melse\u001b[0m\u001b[0;34m:\u001b[0m\u001b[0;34m\u001b[0m\u001b[0;34m\u001b[0m\u001b[0m\n\u001b[1;32m   1434\u001b[0m             \u001b[0mself\u001b[0m\u001b[0;34m.\u001b[0m\u001b[0mtb\u001b[0m \u001b[0;34m=\u001b[0m \u001b[0mtb\u001b[0m\u001b[0;34m\u001b[0m\u001b[0;34m\u001b[0m\u001b[0m\n\u001b[0;32m-> 1435\u001b[0;31m         return FormattedTB.structured_traceback(\n\u001b[0m\u001b[1;32m   1436\u001b[0m             self, etype, value, tb, tb_offset, number_of_lines_of_context)\n\u001b[1;32m   1437\u001b[0m \u001b[0;34m\u001b[0m\u001b[0m\n",
      "\u001b[0;32m/Library/Frameworks/Python.framework/Versions/3.8/lib/python3.8/site-packages/IPython/core/ultratb.py\u001b[0m in \u001b[0;36mstructured_traceback\u001b[0;34m(self, etype, value, tb, tb_offset, number_of_lines_of_context)\u001b[0m\n\u001b[1;32m   1333\u001b[0m         \u001b[0;32mif\u001b[0m \u001b[0mmode\u001b[0m \u001b[0;32min\u001b[0m \u001b[0mself\u001b[0m\u001b[0;34m.\u001b[0m\u001b[0mverbose_modes\u001b[0m\u001b[0;34m:\u001b[0m\u001b[0;34m\u001b[0m\u001b[0;34m\u001b[0m\u001b[0m\n\u001b[1;32m   1334\u001b[0m             \u001b[0;31m# Verbose modes need a full traceback\u001b[0m\u001b[0;34m\u001b[0m\u001b[0;34m\u001b[0m\u001b[0;34m\u001b[0m\u001b[0m\n\u001b[0;32m-> 1335\u001b[0;31m             return VerboseTB.structured_traceback(\n\u001b[0m\u001b[1;32m   1336\u001b[0m                 \u001b[0mself\u001b[0m\u001b[0;34m,\u001b[0m \u001b[0metype\u001b[0m\u001b[0;34m,\u001b[0m \u001b[0mvalue\u001b[0m\u001b[0;34m,\u001b[0m \u001b[0mtb\u001b[0m\u001b[0;34m,\u001b[0m \u001b[0mtb_offset\u001b[0m\u001b[0;34m,\u001b[0m \u001b[0mnumber_of_lines_of_context\u001b[0m\u001b[0;34m\u001b[0m\u001b[0;34m\u001b[0m\u001b[0m\n\u001b[1;32m   1337\u001b[0m             )\n",
      "\u001b[0;32m/Library/Frameworks/Python.framework/Versions/3.8/lib/python3.8/site-packages/IPython/core/ultratb.py\u001b[0m in \u001b[0;36mstructured_traceback\u001b[0;34m(self, etype, evalue, etb, tb_offset, number_of_lines_of_context)\u001b[0m\n\u001b[1;32m   1190\u001b[0m         \u001b[0;34m\"\"\"Return a nice text document describing the traceback.\"\"\"\u001b[0m\u001b[0;34m\u001b[0m\u001b[0;34m\u001b[0m\u001b[0m\n\u001b[1;32m   1191\u001b[0m \u001b[0;34m\u001b[0m\u001b[0m\n\u001b[0;32m-> 1192\u001b[0;31m         formatted_exception = self.format_exception_as_a_whole(etype, evalue, etb, number_of_lines_of_context,\n\u001b[0m\u001b[1;32m   1193\u001b[0m                                                                tb_offset)\n\u001b[1;32m   1194\u001b[0m \u001b[0;34m\u001b[0m\u001b[0m\n",
      "\u001b[0;32m/Library/Frameworks/Python.framework/Versions/3.8/lib/python3.8/site-packages/IPython/core/ultratb.py\u001b[0m in \u001b[0;36mformat_exception_as_a_whole\u001b[0;34m(self, etype, evalue, etb, number_of_lines_of_context, tb_offset)\u001b[0m\n\u001b[1;32m   1148\u001b[0m \u001b[0;34m\u001b[0m\u001b[0m\n\u001b[1;32m   1149\u001b[0m \u001b[0;34m\u001b[0m\u001b[0m\n\u001b[0;32m-> 1150\u001b[0;31m         \u001b[0mlast_unique\u001b[0m\u001b[0;34m,\u001b[0m \u001b[0mrecursion_repeat\u001b[0m \u001b[0;34m=\u001b[0m \u001b[0mfind_recursion\u001b[0m\u001b[0;34m(\u001b[0m\u001b[0morig_etype\u001b[0m\u001b[0;34m,\u001b[0m \u001b[0mevalue\u001b[0m\u001b[0;34m,\u001b[0m \u001b[0mrecords\u001b[0m\u001b[0;34m)\u001b[0m\u001b[0;34m\u001b[0m\u001b[0;34m\u001b[0m\u001b[0m\n\u001b[0m\u001b[1;32m   1151\u001b[0m \u001b[0;34m\u001b[0m\u001b[0m\n\u001b[1;32m   1152\u001b[0m         \u001b[0mframes\u001b[0m \u001b[0;34m=\u001b[0m \u001b[0mself\u001b[0m\u001b[0;34m.\u001b[0m\u001b[0mformat_records\u001b[0m\u001b[0;34m(\u001b[0m\u001b[0mrecords\u001b[0m\u001b[0;34m,\u001b[0m \u001b[0mlast_unique\u001b[0m\u001b[0;34m,\u001b[0m \u001b[0mrecursion_repeat\u001b[0m\u001b[0;34m)\u001b[0m\u001b[0;34m\u001b[0m\u001b[0;34m\u001b[0m\u001b[0m\n",
      "\u001b[0;32m/Library/Frameworks/Python.framework/Versions/3.8/lib/python3.8/site-packages/IPython/core/ultratb.py\u001b[0m in \u001b[0;36mfind_recursion\u001b[0;34m(etype, value, records)\u001b[0m\n\u001b[1;32m    449\u001b[0m     \u001b[0;31m# first frame (from in to out) that looks different.\u001b[0m\u001b[0;34m\u001b[0m\u001b[0;34m\u001b[0m\u001b[0;34m\u001b[0m\u001b[0m\n\u001b[1;32m    450\u001b[0m     \u001b[0;32mif\u001b[0m \u001b[0;32mnot\u001b[0m \u001b[0mis_recursion_error\u001b[0m\u001b[0;34m(\u001b[0m\u001b[0metype\u001b[0m\u001b[0;34m,\u001b[0m \u001b[0mvalue\u001b[0m\u001b[0;34m,\u001b[0m \u001b[0mrecords\u001b[0m\u001b[0;34m)\u001b[0m\u001b[0;34m:\u001b[0m\u001b[0;34m\u001b[0m\u001b[0;34m\u001b[0m\u001b[0m\n\u001b[0;32m--> 451\u001b[0;31m         \u001b[0;32mreturn\u001b[0m \u001b[0mlen\u001b[0m\u001b[0;34m(\u001b[0m\u001b[0mrecords\u001b[0m\u001b[0;34m)\u001b[0m\u001b[0;34m,\u001b[0m \u001b[0;36m0\u001b[0m\u001b[0;34m\u001b[0m\u001b[0;34m\u001b[0m\u001b[0m\n\u001b[0m\u001b[1;32m    452\u001b[0m \u001b[0;34m\u001b[0m\u001b[0m\n\u001b[1;32m    453\u001b[0m     \u001b[0;31m# Select filename, lineno, func_name to track frames with\u001b[0m\u001b[0;34m\u001b[0m\u001b[0;34m\u001b[0m\u001b[0;34m\u001b[0m\u001b[0m\n",
      "\u001b[0;31mTypeError\u001b[0m: object of type 'NoneType' has no len()"
     ]
    }
   ],
   "source": [
    "import time\n",
    "import sys\n",
    "\n",
    "for i in range(1000):\n",
    "    try:\n",
    "        time.sleep(1)\n",
    "        print(1/(i-5))\n",
    "        print('done calculate')\n",
    "    except KeyboardInterrupt as e:\n",
    "        print(\"stopped!\")\n",
    "        sys.exit(1)\n",
    "    except Exception as e:\n",
    "        print (f'error occur at i={i}')\n",
    "        continue"
   ]
  },
  {
   "cell_type": "code",
   "execution_count": 14,
   "metadata": {},
   "outputs": [],
   "source": [
    "import pandas as pd"
   ]
  },
  {
   "cell_type": "code",
   "execution_count": 31,
   "metadata": {
    "scrolled": true
   },
   "outputs": [
    {
     "data": {
      "text/html": [
       "<div>\n",
       "<style scoped>\n",
       "    .dataframe tbody tr th:only-of-type {\n",
       "        vertical-align: middle;\n",
       "    }\n",
       "\n",
       "    .dataframe tbody tr th {\n",
       "        vertical-align: top;\n",
       "    }\n",
       "\n",
       "    .dataframe thead th {\n",
       "        text-align: right;\n",
       "    }\n",
       "</style>\n",
       "<table border=\"1\" class=\"dataframe\">\n",
       "  <thead>\n",
       "    <tr style=\"text-align: right;\">\n",
       "      <th></th>\n",
       "      <th>URL</th>\n",
       "      <th>Volume</th>\n",
       "      <th>Number</th>\n",
       "      <th>Date</th>\n",
       "      <th>scraped</th>\n",
       "      <th>bs</th>\n",
       "    </tr>\n",
       "  </thead>\n",
       "  <tbody>\n",
       "    <tr>\n",
       "      <th>0</th>\n",
       "      <td>/toc/jpe/1960/68/6</td>\n",
       "      <td>Volume 68</td>\n",
       "      <td>Number 6</td>\n",
       "      <td>Dec., 1960</td>\n",
       "      <td>1</td>\n",
       "      <td>&lt;ul class=\"rlist table-of-content__section-bod...</td>\n",
       "    </tr>\n",
       "    <tr>\n",
       "      <th>1</th>\n",
       "      <td>/toc/jpe/1960/68/5</td>\n",
       "      <td>Volume 68</td>\n",
       "      <td>Number 5</td>\n",
       "      <td>Oct., 1960</td>\n",
       "      <td>1</td>\n",
       "      <td>&lt;ul class=\"rlist table-of-content__section-bod...</td>\n",
       "    </tr>\n",
       "    <tr>\n",
       "      <th>2</th>\n",
       "      <td>/toc/jpe/1960/68/4</td>\n",
       "      <td>Volume 68</td>\n",
       "      <td>Number 4</td>\n",
       "      <td>Aug., 1960</td>\n",
       "      <td>1</td>\n",
       "      <td>&lt;ul class=\"rlist table-of-content__section-bod...</td>\n",
       "    </tr>\n",
       "    <tr>\n",
       "      <th>3</th>\n",
       "      <td>/toc/jpe/1960/68/3</td>\n",
       "      <td>Volume 68</td>\n",
       "      <td>Number 3</td>\n",
       "      <td>Jun., 1960</td>\n",
       "      <td>1</td>\n",
       "      <td>&lt;ul class=\"rlist table-of-content__section-bod...</td>\n",
       "    </tr>\n",
       "    <tr>\n",
       "      <th>4</th>\n",
       "      <td>/toc/jpe/1960/68/2</td>\n",
       "      <td>Volume 68</td>\n",
       "      <td>Number 2</td>\n",
       "      <td>Apr., 1960</td>\n",
       "      <td>1</td>\n",
       "      <td>&lt;ul class=\"rlist table-of-content__section-bod...</td>\n",
       "    </tr>\n",
       "    <tr>\n",
       "      <th>...</th>\n",
       "      <td>...</td>\n",
       "      <td>...</td>\n",
       "      <td>...</td>\n",
       "      <td>...</td>\n",
       "      <td>...</td>\n",
       "      <td>...</td>\n",
       "    </tr>\n",
       "    <tr>\n",
       "      <th>397</th>\n",
       "      <td>/toc/jpe/2021/129/3</td>\n",
       "      <td>Volume 129</td>\n",
       "      <td>Number 3</td>\n",
       "      <td>March 2021</td>\n",
       "      <td>1</td>\n",
       "      <td>&lt;ul class=\"rlist table-of-content__section-bod...</td>\n",
       "    </tr>\n",
       "    <tr>\n",
       "      <th>398</th>\n",
       "      <td>/toc/jpe/2021/129/2</td>\n",
       "      <td>Volume 129</td>\n",
       "      <td>Number 2</td>\n",
       "      <td>February 2021</td>\n",
       "      <td>1</td>\n",
       "      <td>&lt;ul class=\"rlist table-of-content__section-bod...</td>\n",
       "    </tr>\n",
       "    <tr>\n",
       "      <th>399</th>\n",
       "      <td>/toc/jpe/2021/129/1</td>\n",
       "      <td>Volume 129</td>\n",
       "      <td>Number 1</td>\n",
       "      <td>January 2021</td>\n",
       "      <td>1</td>\n",
       "      <td>&lt;ul class=\"rlist table-of-content__section-bod...</td>\n",
       "    </tr>\n",
       "    <tr>\n",
       "      <th>400</th>\n",
       "      <td>/toc/jpe/2022/130/2</td>\n",
       "      <td>Volume 130</td>\n",
       "      <td>Number 2</td>\n",
       "      <td>February 2022</td>\n",
       "      <td>1</td>\n",
       "      <td>&lt;ul class=\"rlist table-of-content__section-bod...</td>\n",
       "    </tr>\n",
       "    <tr>\n",
       "      <th>401</th>\n",
       "      <td>/toc/jpe/2022/130/1</td>\n",
       "      <td>Volume 130</td>\n",
       "      <td>Number 1</td>\n",
       "      <td>January 2022</td>\n",
       "      <td>1</td>\n",
       "      <td>&lt;ul class=\"rlist table-of-content__section-bod...</td>\n",
       "    </tr>\n",
       "  </tbody>\n",
       "</table>\n",
       "<p>402 rows × 6 columns</p>\n",
       "</div>"
      ],
      "text/plain": [
       "                     URL      Volume    Number            Date  scraped  \\\n",
       "0     /toc/jpe/1960/68/6   Volume 68  Number 6      Dec., 1960        1   \n",
       "1     /toc/jpe/1960/68/5   Volume 68  Number 5      Oct., 1960        1   \n",
       "2     /toc/jpe/1960/68/4   Volume 68  Number 4      Aug., 1960        1   \n",
       "3     /toc/jpe/1960/68/3   Volume 68  Number 3      Jun., 1960        1   \n",
       "4     /toc/jpe/1960/68/2   Volume 68  Number 2      Apr., 1960        1   \n",
       "..                   ...         ...       ...             ...      ...   \n",
       "397  /toc/jpe/2021/129/3  Volume 129  Number 3      March 2021        1   \n",
       "398  /toc/jpe/2021/129/2  Volume 129  Number 2   February 2021        1   \n",
       "399  /toc/jpe/2021/129/1  Volume 129  Number 1    January 2021        1   \n",
       "400  /toc/jpe/2022/130/2  Volume 130  Number 2   February 2022        1   \n",
       "401  /toc/jpe/2022/130/1  Volume 130  Number 1    January 2022        1   \n",
       "\n",
       "                                                    bs  \n",
       "0    <ul class=\"rlist table-of-content__section-bod...  \n",
       "1    <ul class=\"rlist table-of-content__section-bod...  \n",
       "2    <ul class=\"rlist table-of-content__section-bod...  \n",
       "3    <ul class=\"rlist table-of-content__section-bod...  \n",
       "4    <ul class=\"rlist table-of-content__section-bod...  \n",
       "..                                                 ...  \n",
       "397  <ul class=\"rlist table-of-content__section-bod...  \n",
       "398  <ul class=\"rlist table-of-content__section-bod...  \n",
       "399  <ul class=\"rlist table-of-content__section-bod...  \n",
       "400  <ul class=\"rlist table-of-content__section-bod...  \n",
       "401  <ul class=\"rlist table-of-content__section-bod...  \n",
       "\n",
       "[402 rows x 6 columns]"
      ]
     },
     "metadata": {},
     "output_type": "display_data"
    }
   ],
   "source": [
    "r = pd.read_csv('JPE_all_issue.csv')\n",
    "display(r[r['scraped']==1])"
   ]
  },
  {
   "cell_type": "code",
   "execution_count": 32,
   "metadata": {},
   "outputs": [
    {
     "data": {
      "text/plain": [
       "'<ul class=\"rlist table-of-content__section-body\"><h2><h4 class=\"toc__heading section__header to-section simple\" id=\"d569971e7\">Articles</h4></h2><li class=\"form-action-item\"><div class=\"form-action-item__top\"><span class=\"meta__access\"><i aria-hidden=\"true\" class=\"citation__acess__icon icon-lock access-icon--no-access\"></i><span>No Access</span></span></div><div class=\"form-action-item__wrapper\"><div class=\"form__item__prefix form-action-item__prefix hidden-xs hidden-sm\"><label class=\"checkbox--primary\"><input aria-describedby=\"item1\" aria-labelledby=\"10.1086/589756\" name=\"doi\" type=\"checkbox\" value=\"10.1086/589756\"/><span class=\"label-txt\"></span></label></div><div class=\"form-action-item__body\"><div class=\"issue-item\"><h5 class=\"issue-item__title\"><a href=\"/doi/10.1086/589756\" id=\"10.1086/589756\" title=\"The Effect of Low‐Skilled Immigration on U.S. Prices: Evidence from CPI Data\">The Effect of Low‐Skilled Immigration on U.S. Prices: Evidence from CPI Data</a></h5><div class=\"issue-item__loa\"><ul aria-label=\"author\" class=\"rlist--inline loa comma\"><li><span class=\"hlFld-ContribAuthor\">Patricia\\xa0Cortes</span></li></ul></div><div class=\"issue-item__pages\">pp. 381–422</div><div class=\"issue-item__tale\"><div class=\"hasAbs\"><div class=\"issue-item__row\"><ul class=\"rlist issue-item__options\"><li><a class=\"issue-item__btn btn btn--pale\" href=\"/doi/full/10.1086/589756\" title=\"Full Text\"><i aria-hidden=\"true\" class=\"icon-align-justify\"></i><span class=\"issue-item__btn__label\">Full Text</span></a></li><li><a class=\"issue-item__btn btn btn--pale\" href=\"/doi/epdf/10.1086/589756\" title=\"PDF\"><i class=\"icon icon-file-pdf\"></i><span class=\"issue-item__btn__label\">PDF</span></a></li><li><a class=\"issue-item__btn btn btn--pale\" href=\"/doi/suppl/10.1086/589756\" title=\"Supplemental Materials\"><i aria-hidden=\"true\" class=\"icon-paperclip\"></i><span class=\"issue-item__btn__label\">Supplemental Material</span></a></li></ul></div></div><div class=\"issue-item__abstract\"><div class=\"accordion\"><a aria-expanded=\"false\" class=\"accordion__control\" href=\"#\" title=\"show Abstract\"><span>Abstract</span><i aira-hidden=\"true\" class=\"icon-chevron-down\"></i></a><div class=\"accordion__content\" style=\"display: none;\"><p><p>I exploit the large variation across U.S. cities and through time in the relative size of the low‐skilled immigrant population to estimate the causal effect of immigration on prices of nontraded goods and services. Using an instrumental variables strategy, I find that, at current immigration levels, a 10 percent increase in the share of low‐skilled immigrants in the labor force decreases the price of immigrant‐intensive services, such as housekeeping and gardening, by 2 percent. Wage equations suggest that lower wages are a likely channel through which these effects take place. However, wage effects are significantly larger for low‐skilled immigrants than for low‐skilled natives, implying that the two are imperfect substitutes.</p></p></div></div></div></div></div></div></div></li><li class=\"form-action-item\"><div class=\"form-action-item__top\"><span class=\"meta__access\"><i aria-hidden=\"true\" class=\"citation__acess__icon icon-lock access-icon--no-access\"></i><span>No Access</span></span></div><div class=\"form-action-item__wrapper\"><div class=\"form__item__prefix form-action-item__prefix hidden-xs hidden-sm\"><label class=\"checkbox--primary\"><input aria-describedby=\"item1\" aria-labelledby=\"10.1086/589891\" name=\"doi\" type=\"checkbox\" value=\"10.1086/589891\"/><span class=\"label-txt\"></span></label></div><div class=\"form-action-item__body\"><div class=\"issue-item\"><h5 class=\"issue-item__title\"><a href=\"/doi/10.1086/589891\" id=\"10.1086/589891\" title=\"Spatial Competition with Heterogeneous Firms\">Spatial Competition with Heterogeneous Firms</a></h5><div class=\"issue-item__loa\"><ul aria-label=\"author\" class=\"rlist--inline loa comma\"><li><span class=\"hlFld-ContribAuthor\">Jonathan\\xa0Vogel</span></li></ul></div><div class=\"issue-item__pages\">pp. 423–466</div><div class=\"issue-item__tale\"><div class=\"hasAbs\"><div class=\"issue-item__row\"><ul class=\"rlist issue-item__options\"><li><a class=\"issue-item__btn btn btn--pale\" href=\"/doi/full/10.1086/589891\" title=\"Full Text\"><i aria-hidden=\"true\" class=\"icon-align-justify\"></i><span class=\"issue-item__btn__label\">Full Text</span></a></li><li><a class=\"issue-item__btn btn btn--pale\" href=\"/doi/epdf/10.1086/589891\" title=\"PDF\"><i class=\"icon icon-file-pdf\"></i><span class=\"issue-item__btn__label\">PDF</span></a></li></ul></div></div><div class=\"issue-item__abstract\"><div class=\"accordion\"><a aria-expanded=\"false\" class=\"accordion__control\" href=\"#\" title=\"show Abstract\"><span>Abstract</span><i aira-hidden=\"true\" class=\"icon-chevron-down\"></i></a><div class=\"accordion__content\" style=\"display: none;\"><p><p>I model endogenous horizontal and vertical product differentiation with                     arbitrarily many heterogeneous firms. Firms are asymmetric in that they differ                     in their marginal costs. I prove that under an equilibrium refinement, all                     economically relevant firm outcomes are uniquely determined across all strict                     subgame perfect Nash equilibria. There are two central results. First, a                     firm’s price, market share, and profit are independent of its                     neighbors’ marginal costs, conditional on the average marginal cost in the                     market. Second, more productive firms are more isolated, all else equal. In                     particular, the distance between two firms is strictly decreasing in their                     average marginal cost.</p></p></div></div></div></div></div></div></div></li><li class=\"form-action-item\"><div class=\"form-action-item__top\"><span class=\"meta__access\"><i aria-hidden=\"true\" class=\"citation__acess__icon icon-lock access-icon--no-access\"></i><span>No Access</span></span></div><div class=\"form-action-item__wrapper\"><div class=\"form__item__prefix form-action-item__prefix hidden-xs hidden-sm\"><label class=\"checkbox--primary\"><input aria-describedby=\"item1\" aria-labelledby=\"10.1086/589523\" name=\"doi\" type=\"checkbox\" value=\"10.1086/589523\"/><span class=\"label-txt\"></span></label></div><div class=\"form-action-item__body\"><div class=\"issue-item\"><h5 class=\"issue-item__title\"><a href=\"/doi/10.1086/589523\" id=\"10.1086/589523\" title=\"Capital Deepening and Nonbalanced Economic Growth\">Capital Deepening and Nonbalanced Economic Growth</a></h5><div class=\"issue-item__loa\"><ul aria-label=\"author\" class=\"rlist--inline loa comma\"><li><span class=\"hlFld-ContribAuthor\">Daron\\xa0Acemoglu<span> and </span></span></li><li><span class=\"hlFld-ContribAuthor\">Veronica\\xa0Guerrieri</span></li></ul></div><div class=\"issue-item__pages\">pp. 467–498</div><div class=\"issue-item__tale\"><div class=\"hasAbs\"><div class=\"issue-item__row\"><ul class=\"rlist issue-item__options\"><li><a class=\"issue-item__btn btn btn--pale\" href=\"/doi/full/10.1086/589523\" title=\"Full Text\"><i aria-hidden=\"true\" class=\"icon-align-justify\"></i><span class=\"issue-item__btn__label\">Full Text</span></a></li><li><a class=\"issue-item__btn btn btn--pale\" href=\"/doi/epdf/10.1086/589523\" title=\"PDF\"><i class=\"icon icon-file-pdf\"></i><span class=\"issue-item__btn__label\">PDF</span></a></li><li><a class=\"issue-item__btn btn btn--pale\" href=\"/doi/suppl/10.1086/589523\" title=\"Supplemental Materials\"><i aria-hidden=\"true\" class=\"icon-paperclip\"></i><span class=\"issue-item__btn__label\">Supplemental Material</span></a></li></ul></div></div><div class=\"issue-item__abstract\"><div class=\"accordion\"><a aria-expanded=\"false\" class=\"accordion__control\" href=\"#\" title=\"show Abstract\"><span>Abstract</span><i aira-hidden=\"true\" class=\"icon-chevron-down\"></i></a><div class=\"accordion__content\" style=\"display: none;\"><p><p>We present a model of nonbalanced growth based on differences in factor                     proportions and capital deepening. Capital deepening increases the relative                     output of the more capital‐intensive sector but simultaneously induces a                     reallocation of capital and labor away from that sector. Using a                     two‐sector general equilibrium model, we show that nonbalanced growth is                     consistent with an asymptotic equilibrium with a constant interest rate and                     capital share in national income. For plausible parameter values, the model                     generates dynamics consistent with U.S. data, in particular, faster growth of                     employment and slower growth of output in less capital‐intensive sectors,                     and aggregate behavior consistent with the Kaldor facts.</p></p></div></div></div></div></div></div></div></li><li class=\"form-action-item\"><div class=\"form-action-item__top\"><span class=\"meta__access\"><i aria-hidden=\"true\" class=\"citation__acess__icon icon-lock access-icon--no-access\"></i><span>No Access</span></span></div><div class=\"form-action-item__wrapper\"><div class=\"form__item__prefix form-action-item__prefix hidden-xs hidden-sm\"><label class=\"checkbox--primary\"><input aria-describedby=\"item1\" aria-labelledby=\"10.1086/589524\" name=\"doi\" type=\"checkbox\" value=\"10.1086/589524\"/><span class=\"label-txt\"></span></label></div><div class=\"form-action-item__body\"><div class=\"issue-item\"><h5 class=\"issue-item__title\"><a href=\"/doi/10.1086/589524\" id=\"10.1086/589524\" title=\"Stature and Status: Height, Ability, and Labor Market Outcomes\">Stature and Status: Height, Ability, and Labor Market Outcomes</a></h5><div class=\"issue-item__loa\"><ul aria-label=\"author\" class=\"rlist--inline loa comma\"><li><span class=\"hlFld-ContribAuthor\">Anne\\xa0Case<span> and </span></span></li><li><span class=\"hlFld-ContribAuthor\">Christina\\xa0Paxson</span></li></ul></div><div class=\"issue-item__pages\">pp. 499–532</div><div class=\"issue-item__tale\"><div class=\"hasAbs\"><div class=\"issue-item__row\"><ul class=\"rlist issue-item__options\"><li><a class=\"issue-item__btn btn btn--pale\" href=\"/doi/full/10.1086/589524\" title=\"Full Text\"><i aria-hidden=\"true\" class=\"icon-align-justify\"></i><span class=\"issue-item__btn__label\">Full Text</span></a></li><li><a class=\"issue-item__btn btn btn--pale\" href=\"/doi/epdf/10.1086/589524\" title=\"PDF\"><i class=\"icon icon-file-pdf\"></i><span class=\"issue-item__btn__label\">PDF</span></a></li></ul></div></div><div class=\"issue-item__abstract\"><div class=\"accordion\"><a aria-expanded=\"false\" class=\"accordion__control\" href=\"#\" title=\"show Abstract\"><span>Abstract</span><i aira-hidden=\"true\" class=\"icon-chevron-down\"></i></a><div class=\"accordion__content\" style=\"display: none;\"><p><p>The well‐known association between height and earnings is often thought to reflect factors such as self‐esteem, social dominance, and discrimination. We offer a simpler explanation: height is positively associated with cognitive ability, which is rewarded in the labor market. Using data from the United States and the United Kingdom, we show that taller children have higher average cognitive test scores and that these test scores explain a large portion of the height premium in earnings. Children who have higher test scores also experience earlier adolescent growth spurts, so that height in adolescence serves as a marker of cognitive ability.</p></p></div></div></div></div></div></div></div></li><li class=\"form-action-item\"><div class=\"form-action-item__top\"><span class=\"meta__access\"><i aria-hidden=\"true\" class=\"citation__acess__icon icon-lock access-icon--no-access\"></i><span>No Access</span></span></div><div class=\"form-action-item__wrapper\"><div class=\"form__item__prefix form-action-item__prefix hidden-xs hidden-sm\"><label class=\"checkbox--primary\"><input aria-describedby=\"item1\" aria-labelledby=\"10.1086/589522\" name=\"doi\" type=\"checkbox\" value=\"10.1086/589522\"/><span class=\"label-txt\"></span></label></div><div class=\"form-action-item__body\"><div class=\"issue-item\"><h5 class=\"issue-item__title\"><a href=\"/doi/10.1086/589522\" id=\"10.1086/589522\" title=\"A Phillips Curve with an Ss Foundation\">A Phillips Curve with an <em>Ss</em> Foundation</a></h5><div class=\"issue-item__loa\"><ul aria-label=\"author\" class=\"rlist--inline loa comma\"><li><span class=\"hlFld-ContribAuthor\">Mark\\xa0Gertler<span> and </span></span></li><li><span class=\"hlFld-ContribAuthor\">John\\xa0Leahy</span></li></ul></div><div class=\"issue-item__pages\">pp. 533–572</div><div class=\"issue-item__tale\"><div class=\"hasAbs\"><div class=\"issue-item__row\"><ul class=\"rlist issue-item__options\"><li><a class=\"issue-item__btn btn btn--pale\" href=\"/doi/full/10.1086/589522\" title=\"Full Text\"><i aria-hidden=\"true\" class=\"icon-align-justify\"></i><span class=\"issue-item__btn__label\">Full Text</span></a></li><li><a class=\"issue-item__btn btn btn--pale\" href=\"/doi/epdf/10.1086/589522\" title=\"PDF\"><i class=\"icon icon-file-pdf\"></i><span class=\"issue-item__btn__label\">PDF</span></a></li></ul></div></div><div class=\"issue-item__abstract\"><div class=\"accordion\"><a aria-expanded=\"false\" class=\"accordion__control\" href=\"#\" title=\"show Abstract\"><span>Abstract</span><i aira-hidden=\"true\" class=\"icon-chevron-down\"></i></a><div class=\"accordion__content\" style=\"display: none;\"><p><p>We develop an analytically tractable Phillips curve based on state‐dependent pricing. We consider a local approximation around a zero inflation steady state and introduce infrequent idiosyncratic shocks. The resulting Phillips curve is a simple variant of the conventional time‐dependent Calvo formulation with important differences. First, the model is able to match the micro evidence on the magnitude and timing of price adjustments. Second, our state‐dependent model exhibits greater flexibility in the aggregate price level than the time‐dependent model. With real rigidities present, however, our model can exhibit nominal stickiness similar to a conventional time‐dependent model.</p></p></div></div></div></div></div></div></div></li><li class=\"form-action-item\"><div class=\"form-action-item__top\"><span class=\"meta__access\"><i aria-hidden=\"true\" class=\"citation__acess__icon icon-lock access-icon--no-access\"></i><span>No Access</span></span></div><div class=\"form-action-item__wrapper\"><div class=\"form__item__prefix form-action-item__prefix hidden-xs hidden-sm\"><label class=\"checkbox--primary\"><input aria-describedby=\"item1\" aria-labelledby=\"10.1086/591152\" name=\"doi\" type=\"checkbox\" value=\"10.1086/591152\"/><span class=\"label-txt\"></span></label></div><div class=\"form-action-item__body\"><div class=\"issue-item\"><h5 class=\"issue-item__title\"><a href=\"/doi/10.1086/591152\" id=\"10.1086/591152\" title=\"Journal of Political Economy: acknowledges the assistance of:\">Journal of Political Economy: acknowledges the assistance of:</a></h5><div class=\"issue-item__pages\">p. In Back Cover</div><div class=\"issue-item__tale\"><div class=\"hasFirstPage\"><div class=\"issue-item__row\"><ul class=\"rlist issue-item__options\"><li><a class=\"issue-item__btn btn btn--pale\" href=\"/doi/full/10.1086/591152\" title=\"Full Text\"><i aria-hidden=\"true\" class=\"icon-align-justify\"></i><span class=\"issue-item__btn__label\">Full Text</span></a></li><li><a class=\"issue-item__btn btn btn--pale\" href=\"/doi/epdf/10.1086/591152\" title=\"PDF\"><i class=\"icon icon-file-pdf\"></i><span class=\"issue-item__btn__label\">PDF</span></a></li></ul></div></div><div class=\"issue-item__first-page\"><a class=\"issue-item__btn btn btn--pale\" href=\"/doi/abs/10.1086/591152\" title=\"First Page\"><i aria-hidden=\"true\" class=\"icon-first-page\"></i><span>First page</span></a></div></div></div></div></div></li><li class=\"form-action-item\"><div class=\"form-action-item__top\"><span class=\"meta__access\"><i aria-hidden=\"true\" class=\"citation__acess__icon icon-lock access-icon--no-access\"></i><span>No Access</span></span></div><div class=\"form-action-item__wrapper\"><div class=\"form__item__prefix form-action-item__prefix hidden-xs hidden-sm\"><label class=\"checkbox--primary\"><input aria-describedby=\"item1\" aria-labelledby=\"10.1086/591153\" name=\"doi\" type=\"checkbox\" value=\"10.1086/591153\"/><span class=\"label-txt\"></span></label></div><div class=\"form-action-item__body\"><div class=\"issue-item\"><h5 class=\"issue-item__title\"><a href=\"/doi/10.1086/591153\" id=\"10.1086/591153\" title=\"The Distortionary Effects of Regulation and Rent Seeking\">The Distortionary Effects of Regulation and Rent Seeking</a></h5><div class=\"issue-item__loa\"><ul aria-label=\"author\" class=\"rlist--inline loa comma\"><li><span class=\"hlFld-ContribAuthor\">\\xa0</span></li></ul></div><div class=\"issue-item__pages\">p. Back Cover</div><div class=\"issue-item__tale\"><div class=\"hasFirstPage\"><div class=\"issue-item__row\"><ul class=\"rlist issue-item__options\"><li><a class=\"issue-item__btn btn btn--pale\" href=\"/doi/full/10.1086/591153\" title=\"Full Text\"><i aria-hidden=\"true\" class=\"icon-align-justify\"></i><span class=\"issue-item__btn__label\">Full Text</span></a></li><li><a class=\"issue-item__btn btn btn--pale\" href=\"/doi/epdf/10.1086/591153\" title=\"PDF\"><i class=\"icon icon-file-pdf\"></i><span class=\"issue-item__btn__label\">PDF</span></a></li></ul></div></div><div class=\"issue-item__first-page\"><a class=\"issue-item__btn btn btn--pale\" href=\"/doi/abs/10.1086/591153\" title=\"First Page\"><i aria-hidden=\"true\" class=\"icon-first-page\"></i><span>First page</span></a></div></div></div></div></div></li></ul>'"
      ]
     },
     "execution_count": 32,
     "metadata": {},
     "output_type": "execute_result"
    }
   ],
   "source": [
    "r.loc[306, 'bs']"
   ]
  },
  {
   "cell_type": "code",
   "execution_count": null,
   "metadata": {},
   "outputs": [],
   "source": []
  }
 ],
 "metadata": {
  "kernelspec": {
   "display_name": "Python 3",
   "language": "python",
   "name": "python3"
  },
  "language_info": {
   "codemirror_mode": {
    "name": "ipython",
    "version": 3
   },
   "file_extension": ".py",
   "mimetype": "text/x-python",
   "name": "python",
   "nbconvert_exporter": "python",
   "pygments_lexer": "ipython3",
   "version": "3.8.3"
  }
 },
 "nbformat": 4,
 "nbformat_minor": 4
}
